{
 "cells": [
  {
   "cell_type": "code",
   "execution_count": 1,
   "metadata": {},
   "outputs": [],
   "source": [
    "import numpy as np\n",
    "import os\n",
    "import matplotlib.pyplot as plt"
   ]
  },
  {
   "cell_type": "code",
   "execution_count": 124,
   "metadata": {},
   "outputs": [],
   "source": [
    "def load_data(model, dataset, filename):\n",
    "    accuracy_path = f'accuracy/{filename}_data_{dataset}_arch_{model}/'\n",
    "    search_path = f'search/{filename}_data_{dataset}_arch_{model}/'\n",
    "\n",
    "    results = {\n",
    "        'accuracy' : dict(),\n",
    "        'search'   : dict()\n",
    "    }\n",
    "\n",
    "    for policy in os.listdir(accuracy_path):\n",
    "        results['accuracy'][policy[:-4]] = np.load(f'{accuracy_path}{policy}')\n",
    "        results['search'][policy[:-4]] = np.load(f'{search_path}{policy}')\n",
    "\n",
    "    policies = list(results['accuracy'].keys())\n",
    "\n",
    "    print('==============================')\n",
    "    print(f' Model    : {model}')\n",
    "    print(f' Data     : {dataset}')\n",
    "    print(f' Name     : {filename}')\n",
    "    print(f' Policies : {len(policies)}')\n",
    "    print('==============================')\n",
    "\n",
    "    return results, policies\n",
    "\n",
    "def plot_data(results, policies, k, mode, debug=True):\n",
    "    \"\"\"\n",
    "    Plot the accuracy and privacy scores of the policies.\n",
    "\n",
    "    Arguments:\n",
    "    debug - If True, will print policies with values above 100 or\n",
    "            non-default data type.\n",
    "    \"\"\"\n",
    "    # Plot variables\n",
    "    fig, (search, accuracy) = plt.subplots(1, 2, figsize=(20, 5))\n",
    "    fig.suptitle('The privacy and accuracy scores per policy')\n",
    "    search.set_ylim(0.45, 0.7)\n",
    "\n",
    "    marker = 'x'\n",
    "    dot_color = 'blue'\n",
    "    bar_color = 'gray'\n",
    "    alpha = 1\n",
    "\n",
    "    for i, policy in enumerate(policies):\n",
    "        privacy_score = results['search'][policy]\n",
    "        accuracy_score = -results['accuracy'][policy]\n",
    "\n",
    "        if privacy_score.dtype == 'float64' and accuracy_score.dtype == 'float64':\n",
    "            if any(x > 100 for x in accuracy_score):\n",
    "                if debug:\n",
    "                    print(f'{policy} has values over 100...')\n",
    "            else:\n",
    "                func = eval(f'np.{mode}')\n",
    "                if k > 1:\n",
    "                    search.plot(i, func(privacy_score), marker, color=dot_color, alpha=alpha)\n",
    "                    accuracy.plot(i, func(accuracy_score), marker, color=dot_color, alpha=alpha)\n",
    "                else:\n",
    "                    search.bar(int(policy), func(privacy_score), color=bar_color)\n",
    "                    accuracy.plot(int(policy), func(accuracy_score), marker, color=dot_color, alpha=alpha)\n",
    "        \n",
    "        elif debug:\n",
    "            print(f'{privacy_score.dtype} and {accuracy_score.dtype} type detected in policy {policy}...')\n",
    "\n",
    "    # Mark the 5 lowest values red (only for k=1; S_pri)\n",
    "    if k == 1:\n",
    "        for policy in get_lowest_value(results, 5, func):\n",
    "            search.bar(int(policy), func(results['search'][policy]), color='red', alpha=alpha)\n",
    "\n",
    "    search.set_xlabel('Policies')\n",
    "    search.set_ylabel('Privacy score')\n",
    "    search.set_title(f'The {mode} value of the privacy scores per policy')\n",
    "\n",
    "    accuracy.set_xlabel('Policies')\n",
    "    accuracy.set_ylabel('Accuracy score')\n",
    "    accuracy.set_title(f'The {mode} value of the accuracy scores per policy')\n",
    "\n",
    "    plt.show()\n",
    "\n",
    "def get_lowest_value(results, n_lowest, func):\n",
    "    \"\"\"\n",
    "    Returns the n policies with the lowest privacy score.\n",
    "    \"\"\"\n",
    "    temp = {key : func(value) for key, value in results['search'].items()}\n",
    "    keys = list(temp.keys())\n",
    "    values = list(temp.values())\n",
    "    res = sorted(range(len(values)), key = lambda sub: values[sub])[:n_lowest]\n",
    "    return list(map(keys.__getitem__, res))\n",
    "\n"
   ]
  },
  {
   "cell_type": "code",
   "execution_count": 123,
   "metadata": {},
   "outputs": [
    {
     "name": "stdout",
     "output_type": "stream",
     "text": [
      "==============================\n",
      " Model    : ResNet20-4\n",
      " Data     : cifar100\n",
      " Name     : k1\n",
      " Policies : 50\n",
      "==============================\n"
     ]
    },
    {
     "data": {
      "image/png": "[encoded data removed]",
      "text/plain": [
       "<Figure size 1440x360 with 2 Axes>"
      ]
     },
     "metadata": {
      "needs_background": "light"
     },
     "output_type": "display_data"
    }
   ],
   "source": [
    "k = 1\n",
    "model = 'ResNet20-4'\n",
    "dataset = 'cifar100'\n",
    "filename = f'k{k}'\n",
    "\n",
    "results, policies = load_data(model, dataset, filename)\n",
    "plot_data(results, policies, k, 'mean', debug=True)\n"
   ]
  }
 ],
 "metadata": {
  "interpreter": {
   "hash": "de5c45631fc17a5ad45dddf64b89e305815268a37f897ee5ea537d7015a003aa"
  },
  "kernelspec": {
   "display_name": "Python 3.8.1 64-bit ('ats': conda)",
   "language": "python",
   "name": "python3"
  },
  "language_info": {
   "codemirror_mode": {
    "name": "ipython",
    "version": 3
   },
   "file_extension": ".py",
   "mimetype": "text/x-python",
   "name": "python",
   "nbconvert_exporter": "python",
   "pygments_lexer": "ipython3",
   "version": "3.8.1"
  },
  "orig_nbformat": 4
 },
 "nbformat": 4,
 "nbformat_minor": 2
}
